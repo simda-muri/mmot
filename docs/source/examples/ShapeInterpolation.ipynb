{
 "cells": [
  {
   "cell_type": "markdown",
   "metadata": {},
   "source": [
    "# Shape Interpolation"
   ]
  },
  {
   "cell_type": "code",
   "execution_count": 1,
   "metadata": {},
   "outputs": [],
   "source": [
    "from mmot import MMOTSolver\n",
    "\n",
    "import numpy as np \n",
    "import matplotlib.pyplot as plt \n",
    "\n",
    "from scipy.ndimage import gaussian_filter\n",
    "\n",
    "import cmocean"
   ]
  },
  {
   "cell_type": "markdown",
   "metadata": {},
   "source": [
    "## Define Marginals"
   ]
  },
  {
   "cell_type": "code",
   "execution_count": 2,
   "metadata": {},
   "outputs": [],
   "source": [
    "def sharpen(img):\n",
    "    blurred = gaussian_filter(img, sigma=7)\n",
    "    \n",
    "    blurred[blurred<0.5*np.max(blurred)] = 0.0\n",
    "    blurred[blurred>0] = 1.0\n",
    "\n",
    "    blurred /= np.sum(blurred)\n",
    "    return blurred\n",
    "\n",
    "def pad(img,pad_size=4):\n",
    "    temp = np.ones((img.shape[0]+2*pad_size,img.shape[1]+2*pad_size))\n",
    "    temp[pad_size:-pad_size,pad_size:-pad_size] = img\n",
    "    return temp\n",
    "\n",
    "def rescale(img):\n",
    "    output = np.zeros((2*img.shape[0],2*img.shape[1]))\n",
    "    output[0::2,0::2] = img \n",
    "    output[1::2,0::2] = img \n",
    "    output[1::2,1::2] = img \n",
    "    output[0::2,1::2] = img \n",
    "\n",
    "    return output"
   ]
  },
  {
   "cell_type": "markdown",
   "metadata": {},
   "source": [
    "#### Load and rescale images"
   ]
  },
  {
   "cell_type": "code",
   "execution_count": 3,
   "metadata": {},
   "outputs": [
    {
     "name": "stdout",
     "output_type": "stream",
     "text": [
      "Marginal size =  (1088, 1088)\n"
     ]
    }
   ],
   "source": [
    "measures = [None]*4\n",
    "measures[0] = sharpen(rescale(rescale(rescale(1 - pad(plt.imread('images/redcross.png')[:, :, 2])))))\n",
    "measures[1] = sharpen(rescale(rescale(rescale(1 - pad(plt.imread('images/tooth.png')[:, :, 2])))))\n",
    "measures[2] = sharpen(rescale(rescale(rescale(1 - pad(plt.imread('images/heart.png')[:, :, 2])))))\n",
    "measures[3] = sharpen(rescale(rescale(rescale(1 - pad(plt.imread('images/duck.png')[:, :, 2])))))\n",
    "\n",
    "for i in range(len(measures)):\n",
    "    measures[i] *= np.prod(measures[i].shape)/np.sum(measures[i])\n",
    "   \n",
    "print('Marginal size = ', measures[0].shape)"
   ]
  },
  {
   "cell_type": "code",
   "execution_count": 6,
   "metadata": {},
   "outputs": [
    {
     "name": "stdout",
     "output_type": "stream",
     "text": [
      "Marginal size =  (1664, 1664)\n"
     ]
    }
   ],
   "source": [
    "measures = [None]*2\n",
    "measures[0] = sharpen(rescale(rescale(rescale(1 - pad(plt.imread('images/ice_floe_0.png')[:, :, 2])))))\n",
    "measures[1] = sharpen(rescale(rescale(rescale(1 - pad(plt.imread('images/ice_floe_4.png')[:, :, 2])))))\n",
    "# measures[2] = sharpen(rescale(rescale(rescale(1 - pad(plt.imread('images/ice_floe_2.png')[:, :, 2])))))\n",
    "# measures[3] = sharpen(rescale(rescale(rescale(1 - pad(plt.imread('images/ice_floe_3.png')[:, :, 2])))))\n",
    "# measures[4] = sharpen(rescale(rescale(rescale(1 - pad(plt.imread('images/ice_floe_4.png')[:, :, 2])))))\n",
    "\n",
    "positions = np.array([[0.78,0.56],                # y position upside down\n",
    "                      [0.79,0.6]])\n",
    "r=0.02\n",
    "\n",
    "for i in range(len(measures)):\n",
    "    measures[i] *= np.prod(measures[i].shape)/np.sum(measures[i])\n",
    "#     measures[i] = 1.0 - measures[i]\n",
    "#     measures[i] = measures[i] + 0.0001\n",
    "#     measures[i] = (measures[i]/np.sum(measures[i]))*10e4\n",
    "#     xc, yc = positions[i]\n",
    "#     measures[i][(x-xc)**2 + (y-yc)**2 < r**2] = 0.6\n",
    "   \n",
    "print('Marginal size = ', measures[0].shape)"
   ]
  },
  {
   "cell_type": "markdown",
   "metadata": {},
   "source": [
    "### Normalize images to create measures"
   ]
  },
  {
   "cell_type": "code",
   "execution_count": 7,
   "metadata": {},
   "outputs": [],
   "source": [
    "# Grid of size n1 x n2\n",
    "n1,n2 = measures[0].shape\n",
    "\n",
    "x, y = np.meshgrid(np.linspace(0.5/n1,1-0.5/n1,n1), np.linspace(0.5/n2,1-0.5/n1,n2))\n",
    "\n",
    "# Normalize all the measures\n",
    "for i in range(len(measures)):\n",
    "    measures[i] *= n1*n2 / np.sum(measures[i])"
   ]
  },
  {
   "cell_type": "markdown",
   "metadata": {},
   "source": [
    "#### Plot the measures"
   ]
  },
  {
   "cell_type": "code",
   "execution_count": 8,
   "metadata": {},
   "outputs": [
    {
     "data": {
      "image/png": "[encoded data removed]",
      "text/plain": [
       "<Figure size 864x288 with 2 Axes>"
      ]
     },
     "metadata": {
      "needs_background": "light"
     },
     "output_type": "display_data"
    }
   ],
   "source": [
    "fig, ax = plt.subplots(1, len(measures), figsize=(12,4),sharey=True)\n",
    "cmap = cmocean.cm.ice\n",
    "for i in range(len(measures)):\n",
    "    ax[i].imshow(measures[i], extent=(0,1,0,1), cmap='Greys')\n",
    "#     ax[i].imshow(measures[i],cmap, extent=(0,1,0,1))\n",
    "    ax[i].set_title(\"$\\\\mu_{{ {:0d} }}$\".format(i))"
   ]
  },
  {
   "cell_type": "markdown",
   "metadata": {},
   "source": [
    "## Solve for Each Barycenter"
   ]
  },
  {
   "cell_type": "code",
   "execution_count": 9,
   "metadata": {},
   "outputs": [],
   "source": [
    "def SolveForBary(bary_weights):\n",
    "    unroll_node = 1\n",
    "    bary_weights /= np.sum(bary_weights)\n",
    "\n",
    "    # Only keep the measures with positive weights\n",
    "    keep_inds = np.where(bary_weights>0)[0]\n",
    "    bary_weights = bary_weights[keep_inds]\n",
    "    if(len(keep_inds)==1):\n",
    "        return measures[keep_inds[0]]\n",
    "    \n",
    "    keep_measures = [measures[i] for i in keep_inds]\n",
    "\n",
    "    # Construct the edge list for the barycenter problem\n",
    "    edge_list = []\n",
    "    for i in range(len(keep_inds)):\n",
    "        for j in range(i+1,len(keep_inds)):\n",
    "            edge_list.append([i,j])\n",
    "\n",
    "    # Set up the MMOT solver\n",
    "    prob = MMOTSolver(keep_measures, edge_list, x, y, unroll_node, bary_weights)\n",
    "    \n",
    "    # Solve the MMOT problem\n",
    "    res = prob.Solve(max_its=1000, step_size=1.0, ftol_abs=1e-8, gtol_abs=1e-8, max_line_its=30)\n",
    "    \n",
    "    # Use the result to compute the barycenter\n",
    "    return prob.Barycenter(res.dual_vars)"
   ]
  },
  {
   "cell_type": "code",
   "execution_count": 89,
   "metadata": {},
   "outputs": [
    {
     "name": "stdout",
     "output_type": "stream",
     "text": [
      "Iteration, StepSize,        Cost,        Error,  Line Its\n",
      "        0,   0.0156,  7.3951e-06,   6.0775e-03,         6\n",
      "       10,   0.0375,  2.6619e-05,   6.9123e-07,         0\n",
      "       15,   0.2851,  2.6662e-05,   6.7088e-08,         0\n",
      "Terminating due to small gradient norm.\n",
      "Iteration, StepSize,        Cost,        Error,  Line Its\n"
     ]
    },
    {
     "ename": "KeyboardInterrupt",
     "evalue": "",
     "output_type": "error",
     "traceback": [
      "\u001b[0;31m---------------------------------------------------------------------------\u001b[0m",
      "\u001b[0;31mKeyboardInterrupt\u001b[0m                         Traceback (most recent call last)",
      "\u001b[0;32m/var/folders/9m/p6g685bs6g5fnvqj0gw919fh0000gp/T/ipykernel_87745/1215683726.py\u001b[0m in \u001b[0;36m<module>\u001b[0;34m\u001b[0m\n\u001b[1;32m     17\u001b[0m             \u001b[0mavg_pos\u001b[0m \u001b[0;34m=\u001b[0m \u001b[0;34m[\u001b[0m\u001b[0mw1\u001b[0m\u001b[0;34m,\u001b[0m\u001b[0mw2\u001b[0m\u001b[0;34m]\u001b[0m\u001b[0;34m\u001b[0m\u001b[0;34m\u001b[0m\u001b[0m\n\u001b[1;32m     18\u001b[0m \u001b[0;34m\u001b[0m\u001b[0m\n\u001b[0;32m---> 19\u001b[0;31m             \u001b[0mbary\u001b[0m \u001b[0;34m=\u001b[0m \u001b[0mSolveForBary\u001b[0m\u001b[0;34m(\u001b[0m\u001b[0mweights\u001b[0m\u001b[0;34m)\u001b[0m\u001b[0;34m\u001b[0m\u001b[0;34m\u001b[0m\u001b[0m\n\u001b[0m\u001b[1;32m     20\u001b[0m \u001b[0;34m\u001b[0m\u001b[0m\n\u001b[1;32m     21\u001b[0m             \u001b[0max\u001b[0m\u001b[0;34m=\u001b[0m\u001b[0mfig\u001b[0m\u001b[0;34m.\u001b[0m\u001b[0madd_axes\u001b[0m\u001b[0;34m(\u001b[0m\u001b[0;34m[\u001b[0m\u001b[0mavg_pos\u001b[0m\u001b[0;34m[\u001b[0m\u001b[0;36m0\u001b[0m\u001b[0;34m]\u001b[0m\u001b[0;34m,\u001b[0m\u001b[0mavg_pos\u001b[0m\u001b[0;34m[\u001b[0m\u001b[0;36m1\u001b[0m\u001b[0;34m]\u001b[0m\u001b[0;34m,\u001b[0m\u001b[0msize\u001b[0m\u001b[0;34m,\u001b[0m\u001b[0msize\u001b[0m\u001b[0;34m]\u001b[0m\u001b[0;34m)\u001b[0m\u001b[0;34m\u001b[0m\u001b[0;34m\u001b[0m\u001b[0m\n",
      "\u001b[0;32m/var/folders/9m/p6g685bs6g5fnvqj0gw919fh0000gp/T/ipykernel_87745/352596214.py\u001b[0m in \u001b[0;36mSolveForBary\u001b[0;34m(bary_weights)\u001b[0m\n\u001b[1;32m     21\u001b[0m \u001b[0;34m\u001b[0m\u001b[0m\n\u001b[1;32m     22\u001b[0m     \u001b[0;31m# Solve the MMOT problem\u001b[0m\u001b[0;34m\u001b[0m\u001b[0;34m\u001b[0m\u001b[0;34m\u001b[0m\u001b[0m\n\u001b[0;32m---> 23\u001b[0;31m     \u001b[0mres\u001b[0m \u001b[0;34m=\u001b[0m \u001b[0mprob\u001b[0m\u001b[0;34m.\u001b[0m\u001b[0mSolve\u001b[0m\u001b[0;34m(\u001b[0m\u001b[0mmax_its\u001b[0m\u001b[0;34m=\u001b[0m\u001b[0;36m1000\u001b[0m\u001b[0;34m,\u001b[0m \u001b[0mstep_size\u001b[0m\u001b[0;34m=\u001b[0m\u001b[0;36m1.0\u001b[0m\u001b[0;34m,\u001b[0m \u001b[0mftol_abs\u001b[0m\u001b[0;34m=\u001b[0m\u001b[0;36m1e-11\u001b[0m\u001b[0;34m,\u001b[0m \u001b[0mgtol_abs\u001b[0m\u001b[0;34m=\u001b[0m\u001b[0;36m1e-7\u001b[0m\u001b[0;34m,\u001b[0m \u001b[0mmax_line_its\u001b[0m\u001b[0;34m=\u001b[0m\u001b[0;36m30\u001b[0m\u001b[0;34m)\u001b[0m\u001b[0;34m\u001b[0m\u001b[0;34m\u001b[0m\u001b[0m\n\u001b[0m\u001b[1;32m     24\u001b[0m \u001b[0;34m\u001b[0m\u001b[0m\n\u001b[1;32m     25\u001b[0m     \u001b[0;31m# Use the result to compute the barycenter\u001b[0m\u001b[0;34m\u001b[0m\u001b[0;34m\u001b[0m\u001b[0;34m\u001b[0m\u001b[0m\n",
      "\u001b[0;32m~/Documents/GitHub/mmot/mmot/solver.py\u001b[0m in \u001b[0;36mSolve\u001b[0;34m(self, dual_vars, **kwargs)\u001b[0m\n\u001b[1;32m    519\u001b[0m         \u001b[0;32mwhile\u001b[0m\u001b[0;34m(\u001b[0m\u001b[0mline_it\u001b[0m\u001b[0;34m<\u001b[0m\u001b[0mmax_line_its\u001b[0m\u001b[0;34m)\u001b[0m\u001b[0;34m:\u001b[0m\u001b[0;34m\u001b[0m\u001b[0;34m\u001b[0m\u001b[0m\n\u001b[1;32m    520\u001b[0m             \u001b[0mnew_duals\u001b[0m \u001b[0;34m=\u001b[0m \u001b[0mnp\u001b[0m\u001b[0;34m.\u001b[0m\u001b[0mcopy\u001b[0m\u001b[0;34m(\u001b[0m\u001b[0mdual_vars\u001b[0m\u001b[0;34m)\u001b[0m\u001b[0;34m\u001b[0m\u001b[0;34m\u001b[0m\u001b[0m\n\u001b[0;32m--> 521\u001b[0;31m             \u001b[0mnewSqNorm\u001b[0m \u001b[0;34m=\u001b[0m \u001b[0mself\u001b[0m\u001b[0;34m.\u001b[0m\u001b[0mStep\u001b[0m\u001b[0;34m(\u001b[0m\u001b[0mnext_root\u001b[0m\u001b[0;34m,\u001b[0m \u001b[0mnew_duals\u001b[0m\u001b[0;34m,\u001b[0m \u001b[0malpha\u001b[0m\u001b[0;34m*\u001b[0m\u001b[0mstep_size\u001b[0m\u001b[0;34m)\u001b[0m\u001b[0;34m\u001b[0m\u001b[0;34m\u001b[0m\u001b[0m\n\u001b[0m\u001b[1;32m    522\u001b[0m             \u001b[0;32mif\u001b[0m\u001b[0;34m(\u001b[0m\u001b[0mline_it\u001b[0m\u001b[0;34m==\u001b[0m\u001b[0;36m0\u001b[0m\u001b[0;34m)\u001b[0m\u001b[0;34m:\u001b[0m\u001b[0;34m\u001b[0m\u001b[0;34m\u001b[0m\u001b[0m\n\u001b[1;32m    523\u001b[0m                 \u001b[0mgradSqNorm\u001b[0m \u001b[0;34m=\u001b[0m \u001b[0mnp\u001b[0m\u001b[0;34m.\u001b[0m\u001b[0mcopy\u001b[0m\u001b[0;34m(\u001b[0m\u001b[0mnewSqNorm\u001b[0m\u001b[0;34m)\u001b[0m\u001b[0;34m\u001b[0m\u001b[0;34m\u001b[0m\u001b[0m\n",
      "\u001b[0;32m~/Documents/GitHub/mmot/mmot/solver.py\u001b[0m in \u001b[0;36mStep\u001b[0;34m(self, root_node, dual_vars, step_size)\u001b[0m\n\u001b[1;32m    363\u001b[0m             \u001b[0mw\u001b[0m \u001b[0;34m=\u001b[0m \u001b[0mself\u001b[0m\u001b[0;34m.\u001b[0m\u001b[0m_edge_weights\u001b[0m\u001b[0;34m[\u001b[0m\u001b[0mself\u001b[0m\u001b[0;34m.\u001b[0m\u001b[0m_measure_map\u001b[0m\u001b[0;34m[\u001b[0m\u001b[0mvert_ind\u001b[0m\u001b[0;34m]\u001b[0m\u001b[0;34m,\u001b[0m\u001b[0mself\u001b[0m\u001b[0;34m.\u001b[0m\u001b[0m_measure_map\u001b[0m\u001b[0;34m[\u001b[0m\u001b[0mnext_vert_ind\u001b[0m\u001b[0;34m]\u001b[0m\u001b[0;34m]\u001b[0m\u001b[0;34m\u001b[0m\u001b[0;34m\u001b[0m\u001b[0m\n\u001b[1;32m    364\u001b[0m             \u001b[0;31m#print(w)\u001b[0m\u001b[0;34m\u001b[0m\u001b[0;34m\u001b[0m\u001b[0;34m\u001b[0m\u001b[0m\n\u001b[0;32m--> 365\u001b[0;31m             \u001b[0msmu\u001b[0m \u001b[0;34m=\u001b[0m \u001b[0mpush_forward\u001b[0m\u001b[0;34m(\u001b[0m\u001b[0mself\u001b[0m\u001b[0;34m.\u001b[0m\u001b[0m_bf\u001b[0m\u001b[0;34m,\u001b[0m \u001b[0mself\u001b[0m\u001b[0;34m.\u001b[0m\u001b[0mf_tmp\u001b[0m\u001b[0;34m[\u001b[0m\u001b[0mvert_ind\u001b[0m\u001b[0;34m]\u001b[0m\u001b[0;34m,\u001b[0m \u001b[0mself\u001b[0m\u001b[0;34m.\u001b[0m\u001b[0m_measures\u001b[0m\u001b[0;34m[\u001b[0m\u001b[0mself\u001b[0m\u001b[0;34m.\u001b[0m\u001b[0m_measure_map\u001b[0m\u001b[0;34m[\u001b[0m\u001b[0mnext_vert_ind\u001b[0m\u001b[0;34m]\u001b[0m\u001b[0;34m]\u001b[0m\u001b[0;34m,\u001b[0m \u001b[0mself\u001b[0m\u001b[0;34m.\u001b[0m\u001b[0m_x\u001b[0m\u001b[0;34m,\u001b[0m \u001b[0mself\u001b[0m\u001b[0;34m.\u001b[0m\u001b[0m_y\u001b[0m\u001b[0;34m,\u001b[0m \u001b[0mw\u001b[0m\u001b[0;34m)\u001b[0m\u001b[0;34m\u001b[0m\u001b[0;34m\u001b[0m\u001b[0m\n\u001b[0m\u001b[1;32m    366\u001b[0m             \u001b[0msmu\u001b[0m \u001b[0;34m=\u001b[0m \u001b[0mnp\u001b[0m\u001b[0;34m.\u001b[0m\u001b[0mnan_to_num\u001b[0m\u001b[0;34m(\u001b[0m\u001b[0msmu\u001b[0m\u001b[0;34m,\u001b[0m\u001b[0mcopy\u001b[0m\u001b[0;34m=\u001b[0m\u001b[0;32mFalse\u001b[0m\u001b[0;34m)\u001b[0m\u001b[0;34m\u001b[0m\u001b[0;34m\u001b[0m\u001b[0m\n\u001b[1;32m    367\u001b[0m \u001b[0;34m\u001b[0m\u001b[0m\n",
      "\u001b[0;32m~/Documents/GitHub/mmot/mmot/bfm_utilities.py\u001b[0m in \u001b[0;36mpush_forward\u001b[0;34m(bf, dualVar, marginal, x, y, weight)\u001b[0m\n\u001b[1;32m    405\u001b[0m   \u001b[0;31m# Push forward\u001b[0m\u001b[0;34m\u001b[0m\u001b[0;34m\u001b[0m\u001b[0;34m\u001b[0m\u001b[0m\n\u001b[1;32m    406\u001b[0m   \u001b[0moutput\u001b[0m \u001b[0;34m=\u001b[0m \u001b[0mnp\u001b[0m\u001b[0;34m.\u001b[0m\u001b[0mzeros\u001b[0m\u001b[0;34m(\u001b[0m\u001b[0mmarginal\u001b[0m\u001b[0;34m.\u001b[0m\u001b[0mshape\u001b[0m\u001b[0;34m)\u001b[0m\u001b[0;34m\u001b[0m\u001b[0;34m\u001b[0m\u001b[0m\n\u001b[0;32m--> 407\u001b[0;31m   \u001b[0mbf\u001b[0m\u001b[0;34m.\u001b[0m\u001b[0mpushforward\u001b[0m\u001b[0;34m(\u001b[0m\u001b[0moutput\u001b[0m\u001b[0;34m,\u001b[0m \u001b[0mphi\u001b[0m\u001b[0;34m,\u001b[0m \u001b[0mmarginal\u001b[0m\u001b[0;34m)\u001b[0m\u001b[0;34m\u001b[0m\u001b[0;34m\u001b[0m\u001b[0m\n\u001b[0m\u001b[1;32m    408\u001b[0m \u001b[0;34m\u001b[0m\u001b[0m\n\u001b[1;32m    409\u001b[0m   \u001b[0;32mreturn\u001b[0m \u001b[0moutput\u001b[0m\u001b[0;34m\u001b[0m\u001b[0;34m\u001b[0m\u001b[0m\n",
      "\u001b[0;31mKeyboardInterrupt\u001b[0m: "
     ]
    },
    {
     "data": {
      "image/png": "[encoded data removed]",
      "text/plain": [
       "<Figure size 576x576 with 3 Axes>"
      ]
     },
     "metadata": {
      "needs_background": "light"
     },
     "output_type": "display_data"
    }
   ],
   "source": [
    "fig=plt.figure(figsize=(8,8)) \n",
    "\n",
    "vmax = np.max(measures[0])\n",
    "\n",
    "size=0.26\n",
    "corner_pos = np.array([[0.0,1.0], [0.0,0.0], [1.0,1.0], [1.0,0.0]])\n",
    "\n",
    "for i,m in enumerate(measures):\n",
    "    ax=fig.add_axes([corner_pos[i,0],corner_pos[i,1],size,size])\n",
    "    ax.imshow(measures[i],extent=(0,1,0,1),cmap='Greys',vmin=0, vmax=vmax)\n",
    "    ax.set_axis_off()\n",
    "\n",
    "for w1 in np.linspace(0,1,5):\n",
    "    for w2 in np.linspace(0,1,5):\n",
    "        weights = [(1.0-w1)*w2, (1.0-w1)*(1.0-w2), w1*w2, w1*(1.0-w2)]\n",
    "        if(np.max(weights)<1.0-1e-12):\n",
    "            avg_pos = [w1,w2]\n",
    "            \n",
    "            bary = SolveForBary(weights)\n",
    "\n",
    "            ax=fig.add_axes([avg_pos[0],avg_pos[1],size,size])\n",
    "            ax.imshow(bary,extent=(0,1,0,1),cmap='Greys',vmin=0, vmax=vmax)\n",
    "            ax.set_axis_off()\n",
    "            \n",
    "plt.savefig('ShapeInterpolation.pdf',bbox_inches='tight')"
   ]
  },
  {
   "cell_type": "code",
   "execution_count": 7,
   "metadata": {},
   "outputs": [
    {
     "name": "stdout",
     "output_type": "stream",
     "text": [
      "Iteration, StepSize,        Cost,        Error,  Line Its\n",
      "        0,   0.0039,  1.9411e-05,   7.7509e-03,         8\n",
      "        8,   0.1001,  8.7990e-05,   9.9587e-06,         0\n",
      "Terminating due to small change in objective.\n",
      "Iteration, StepSize,        Cost,        Error,  Line Its\n",
      "        0,   0.0078,  5.3483e-06,   1.3880e-02,         7\n",
      "       10,   0.0188,  2.0048e-04,   2.1056e-05,         0\n",
      "       18,   0.0200,  2.0099e-04,   9.5017e-07,         0\n",
      "Terminating due to small change in objective.\n",
      "Iteration, StepSize,        Cost,        Error,  Line Its\n",
      "        0,   0.0156,  5.1138e-05,   4.5263e-02,         6\n",
      "       10,   0.0375,  3.6771e-04,   2.9489e-05,         0\n",
      "       20,   0.0902,  3.7000e-04,   3.7724e-06,         0\n",
      "       24,   0.0190,  3.7007e-04,   1.1728e-06,         0\n",
      "Terminating due to small change in objective.\n",
      "Iteration, StepSize,        Cost,        Error,  Line Its\n",
      "        0,   0.0156,  5.3878e-05,   4.4769e-02,         6\n",
      "       10,   0.0375,  2.6568e-04,   4.7427e-05,         0\n",
      "       20,   0.0451,  2.7276e-04,   2.2822e-05,         0\n",
      "       30,   0.0271,  2.7776e-04,   2.3842e-05,         0\n",
      "       40,   0.0163,  2.8181e-04,   2.1260e-05,         0\n",
      "       50,   0.0098,  2.8453e-04,   2.4706e-05,         0\n",
      "       60,   0.0059,  2.8584e-04,   1.0800e-05,         0\n",
      "       70,   0.0141,  2.8636e-04,   5.0758e-06,         0\n",
      "       75,   0.0045,  2.8646e-04,   4.5001e-06,         4\n",
      "Terminating due to small change in objective.\n"
     ]
    },
    {
     "data": {
      "image/png": "[encoded data removed]",
      "text/plain": [
       "<Figure size 576x576 with 9 Axes>"
      ]
     },
     "metadata": {
      "needs_background": "light"
     },
     "output_type": "display_data"
    }
   ],
   "source": [
    "\n",
    "fig=plt.figure(figsize=(8,8)) \n",
    "\n",
    "vmax = np.max(measures[0])\n",
    "\n",
    "size=0.11\n",
    "# corner_pos = np.array([[0.0,0.0], [1.0,0.0]])\n",
    "\n",
    "for i,m in enumerate(measures):\n",
    "    ax=fig.add_axes([(2*i)*size,0.0,size,size])\n",
    "#     ax.imshow(measures[i],cmap,extent=(0,1,0,1),vmin=0, vmax=vmax)\n",
    "    ax.imshow(measures[i],extent=(0,1,0,1),cmap='Greys',vmin=0, vmax=vmax)\n",
    "    ax.set_axis_off()\n",
    "    ax.set_title(f\"$t={(2*i)*0.125}$\")\n",
    "\n",
    "for i in range(4):\n",
    "    weights = [0, 0, 0, 0, 0]\n",
    "    weights[i] = 0.5\n",
    "    weights[i+1] = 0.5\n",
    "    avg_pos = [(2*i+1)*size,0.0]\n",
    "    bary = SolveForBary(weights)\n",
    "    ax=fig.add_axes([avg_pos[0],avg_pos[1],size,size])\n",
    "#             ax.imshow(bary,cmap,extent=(0,1,0,1),vmin=0, vmax=vmax)\n",
    "    ax.imshow(bary,extent=(0,1,0,1),cmap='Greys',vmin=0, vmax=vmax)\n",
    "    ax.set_axis_off()\n",
    "    ax.set_title(f\"$t={(2*i+1)*0.125}$\")\n",
    "            \n",
    "plt.savefig('ShapeInterpolation.pdf',bbox_inches='tight')"
   ]
  },
  {
   "cell_type": "code",
   "execution_count": 12,
   "metadata": {},
   "outputs": [
    {
     "name": "stdout",
     "output_type": "stream",
     "text": [
      "Iteration, StepSize,        Cost,        Error,  Line Its\n",
      "        0,   0.0156,  2.8729e-04,   1.4643e-01,         6\n",
      "       10,   0.0063,  1.1660e-03,   5.3325e-04,         0\n",
      "       20,   0.0038,  1.1681e-03,   2.1142e-05,         0\n",
      "       27,   0.0007,  1.1683e-03,   7.8760e-06,         6\n",
      "Terminating due to small change in objective.\n",
      "Iteration, StepSize,        Cost,        Error,  Line Its\n",
      "        0,   0.0156,  5.5638e-04,   1.1142e-01,         6\n",
      "       10,   0.0375,  1.9969e-03,   1.1237e-04,         0\n",
      "       20,   0.0038,  2.0024e-03,   9.0967e-05,         4\n",
      "       28,   0.0020,  2.0028e-03,   1.0923e-05,         5\n",
      "Terminating due to small change in objective.\n",
      "Iteration, StepSize,        Cost,        Error,  Line Its\n",
      "        0,   0.0156,  6.6026e-04,   9.9875e-02,         6\n",
      "       10,   0.0375,  2.4843e-03,   2.5180e-04,         0\n",
      "       20,   0.0902,  2.5025e-03,   1.7994e-05,         0\n",
      "       30,   0.0045,  2.5034e-03,   2.4525e-05,         4\n",
      "       30,   0.0045,  2.5034e-03,   2.4525e-05,         4\n",
      "Terminating due to small change in objective.\n",
      "Iteration, StepSize,        Cost,        Error,  Line Its\n",
      "        0,   0.0156,  6.8962e-04,   9.6561e-02,         6\n",
      "       10,   0.0375,  2.6674e-03,   2.8551e-04,         0\n",
      "       20,   0.0451,  2.6701e-03,   6.4816e-06,         0\n",
      "       24,   0.0024,  2.6703e-03,   5.6215e-06,         0\n",
      "Terminating due to small change in objective.\n",
      "Iteration, StepSize,        Cost,        Error,  Line Its\n",
      "        0,   0.0156,  6.6026e-04,   9.9875e-02,         6\n",
      "       10,   0.0375,  2.4843e-03,   2.5180e-04,         0\n",
      "       20,   0.0902,  2.5025e-03,   1.7994e-05,         0\n",
      "       30,   0.0045,  2.5034e-03,   2.4525e-05,         4\n",
      "       30,   0.0045,  2.5034e-03,   2.4525e-05,         4\n",
      "Terminating due to small change in objective.\n",
      "Iteration, StepSize,        Cost,        Error,  Line Its\n",
      "        0,   0.0156,  5.5638e-04,   1.1142e-01,         6\n",
      "       10,   0.0375,  1.9969e-03,   1.1237e-04,         0\n",
      "       20,   0.0038,  2.0024e-03,   9.0967e-05,         4\n",
      "       28,   0.0020,  2.0028e-03,   1.0923e-05,         5\n",
      "Terminating due to small change in objective.\n",
      "Iteration, StepSize,        Cost,        Error,  Line Its\n",
      "        0,   0.0156,  2.8729e-04,   1.4643e-01,         6\n",
      "       10,   0.0063,  1.1660e-03,   5.3325e-04,         0\n",
      "       20,   0.0038,  1.1681e-03,   2.1142e-05,         0\n",
      "       27,   0.0007,  1.1683e-03,   7.8760e-06,         6\n",
      "Terminating due to small change in objective.\n"
     ]
    },
    {
     "data": {
      "image/png": "[encoded data removed]",
      "text/plain": [
       "<Figure size 576x576 with 11 Axes>"
      ]
     },
     "metadata": {
      "needs_background": "light"
     },
     "output_type": "display_data"
    }
   ],
   "source": [
    "fig=plt.figure(figsize=(8,8)) \n",
    "\n",
    "vmax = np.max(measures[0])\n",
    "\n",
    "size=0.11\n",
    "corner_pos = np.array([[0.0,0.0], [1.0,0.0]])\n",
    "\n",
    "for i,m in enumerate(measures):\n",
    "    ax=fig.add_axes([corner_pos[i,0],corner_pos[i,1],size,size])\n",
    "#     ax.imshow(measures[i],cmap,extent=(0,1,0,1),vmin=0, vmax=vmax)\n",
    "    ax.imshow(measures[i],extent=(0,1,0,1),cmap='Greys',vmin=0, vmax=vmax)\n",
    "    ax.set_axis_off()\n",
    "\n",
    "for w1 in np.linspace(0,1,9):\n",
    "            weights = [(1.0-w1),w1]\n",
    "            avg_pos = [w1,0.0]\n",
    "            \n",
    "            bary = SolveForBary(weights)\n",
    "\n",
    "            ax=fig.add_axes([avg_pos[0],avg_pos[1],size,size])\n",
    "#             ax.imshow(bary,cmap,extent=(0,1,0,1),vmin=0, vmax=vmax)\n",
    "            ax.imshow(bary,extent=(0,1,0,1),cmap='Greys',vmin=0, vmax=vmax)\n",
    "            ax.set_axis_off()\n",
    "            ax.set_title(f\"$t={w1}$\")\n",
    "            \n",
    "plt.savefig('ShapeInterpolation.pdf',bbox_inches='tight')"
   ]
  },
  {
   "cell_type": "code",
   "execution_count": null,
   "metadata": {},
   "outputs": [],
   "source": []
  }
 ],
 "metadata": {
  "interpreter": {
   "hash": "545e036c4b32438aced1f6b3c8d38ca151d9c36189e05839cb0aa568fda70ddd"
  },
  "kernelspec": {
   "display_name": "Python 3 (ipykernel)",
   "language": "python",
   "name": "python3"
  },
  "language_info": {
   "codemirror_mode": {
    "name": "ipython",
    "version": 3
   },
   "file_extension": ".py",
   "mimetype": "text/x-python",
   "name": "python",
   "nbconvert_exporter": "python",
   "pygments_lexer": "ipython3",
   "version": "3.8.12"
  }
 },
 "nbformat": 4,
 "nbformat_minor": 4
}
