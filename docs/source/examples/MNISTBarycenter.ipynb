{
 "cells": [
  {
   "cell_type": "markdown",
   "metadata": {},
   "source": [
    "# Barycenter of MNIST Digits"
   ]
  },
  {
   "cell_type": "code",
   "execution_count": null,
   "metadata": {},
   "outputs": [],
   "source": [
    "\n",
    "from mmot import MMOTSolver\n",
    "\n",
    "import numpy as np \n",
    "import matplotlib.pyplot as plt \n",
    "import itertools"
   ]
  },
  {
   "cell_type": "markdown",
   "metadata": {},
   "source": [
    "## Download and open the MNIST dataset"
   ]
  },
  {
   "cell_type": "code",
   "execution_count": 2,
   "metadata": {},
   "outputs": [],
   "source": [
    "import hashlib \n",
    "import os \n",
    "import requests \n",
    "import gzip\n",
    "\n",
    "#fetch data (adapted from https://github.com/geohot/ai-notebooks/blob/master/mnist_from_scratch.ipynb)\n",
    "path='./'\n",
    "def fetch(url):\n",
    "    fp = os.path.join(path, hashlib.md5(url.encode('utf-8')).hexdigest())\n",
    "    if os.path.isfile(fp):\n",
    "        with open(fp, \"rb\") as f:\n",
    "            data = f.read()\n",
    "    else:\n",
    "        with open(fp, \"wb\") as f:\n",
    "            data = requests.get(url).content\n",
    "            f.write(data)\n",
    "    return np.frombuffer(gzip.decompress(data), dtype=np.uint8).copy()\n",
    "\n",
    "digits = fetch(\"http://yann.lecun.com/exdb/mnist/train-images-idx3-ubyte.gz\")[0x10:].reshape((-1, 28, 28))\n",
    "labels = fetch(\"http://yann.lecun.com/exdb/mnist/train-labels-idx1-ubyte.gz\")[8:]"
   ]
  },
  {
   "cell_type": "markdown",
   "metadata": {},
   "source": [
    "### Plot a few samples of the digit we're interested in"
   ]
  },
  {
   "cell_type": "code",
   "execution_count": 3,
   "metadata": {},
   "outputs": [
    {
     "data": {
      "image/png": "[encoded data removed]",
      "text/plain": [
       "<Figure size 1800x360 with 5 Axes>"
      ]
     },
     "metadata": {
      "needs_background": "light"
     },
     "output_type": "display_data"
    }
   ],
   "source": [
    "desired_digit = 3\n",
    "inds = np.where(labels==desired_digit)[0]\n",
    "\n",
    "num_plot = 5\n",
    "fig,axs = plt.subplots(ncols=num_plot, sharey=True, figsize=(num_plot*5,5))\n",
    "for i in range(num_plot):\n",
    "    axs[i].imshow(digits[inds[i],:,:],cmap='Greys')\n"
   ]
  },
  {
   "cell_type": "markdown",
   "metadata": {},
   "source": [
    "### Extract digits with similar total measure"
   ]
  },
  {
   "cell_type": "code",
   "execution_count": 4,
   "metadata": {},
   "outputs": [],
   "source": [
    "# Grid of size n1 x n2\n",
    "n1 = digits.shape[1]   # x axis\n",
    "n2 = digits.shape[2]   # y axis\n",
    "\n",
    "x, y = np.meshgrid(np.linspace(0.5/n1,1-0.5/n1,n1), np.linspace(0.5/n2,1-0.5/n1,n2))"
   ]
  },
  {
   "cell_type": "code",
   "execution_count": 5,
   "metadata": {},
   "outputs": [],
   "source": [
    "unroll_node = 0\n",
    "\n",
    "num_digits = 10 \n",
    "sums = np.array([np.sum(digits[i,:,:]) for i in inds])\n",
    "\n",
    "val = np.sum(digits[inds[0],:,:])\n",
    "\n",
    "sorted_inds = inds[np.argsort(np.abs(sums-val))]\n",
    "measures = [digits[sorted_inds[i],:,:]* (n1*n2/np.sum(digits[sorted_inds[i],:,:])) for i in range(num_digits)]"
   ]
  },
  {
   "cell_type": "markdown",
   "metadata": {},
   "source": [
    "### Define the edge list for the barycenter problem"
   ]
  },
  {
   "cell_type": "code",
   "execution_count": 6,
   "metadata": {},
   "outputs": [
    {
     "name": "stdout",
     "output_type": "stream",
     "text": [
      "0\n"
     ]
    }
   ],
   "source": [
    "\n",
    "edge_list = []\n",
    "for i in range(num_digits):\n",
    "    for j in range(i+1,num_digits):\n",
    "        edge_list += [[i,j]]\n",
    "\n",
    "\n",
    "prob = MMOTSolver(measures, edge_list, x, y, unroll_node)"
   ]
  },
  {
   "cell_type": "markdown",
   "metadata": {},
   "source": [
    "### Solve the problem"
   ]
  },
  {
   "cell_type": "code",
   "execution_count": 7,
   "metadata": {},
   "outputs": [
    {
     "name": "stdout",
     "output_type": "stream",
     "text": [
      "Iteration, StepSize,    Cost,   Error\n",
      "        0,   0.2000,  0.0184,   0.64792\n",
      "       10,   0.1327,  0.1448,   0.10641\n",
      "       20,   0.0794,  0.1578,   0.05765\n",
      "       30,   0.0476,  0.1637,   0.04896\n",
      "       40,   0.0285,  0.1711,   0.05001\n",
      "       50,   0.0350,  0.1829,   0.04006\n",
      "       60,   0.0209,  0.1861,   0.03688\n",
      "       70,   0.0154,  0.1902,   0.03523\n",
      "       80,   0.0125,  0.1935,   0.03595\n",
      "       90,   0.0102,  0.1962,   0.03717\n",
      "      100,   0.0075,  0.1973,   0.03561\n",
      "      110,   0.0055,  0.1984,   0.03445\n",
      "      120,   0.0045,  0.1995,   0.03423\n",
      "      130,   0.0033,  0.2003,   0.03498\n",
      "      140,   0.0030,  0.2009,   0.03484\n",
      "      150,   0.0018,  0.2011,   0.03470\n",
      "      160,   0.0013,  0.2014,   0.03481\n",
      "      170,   0.0011,  0.2017,   0.03435\n",
      "      180,   0.0010,  0.2019,   0.03471\n",
      "      190,   0.0007,  0.2019,   0.03438\n",
      "      200,   0.0004,  0.2020,   0.03507\n",
      "      210,   0.0004,  0.2021,   0.03431\n",
      "      220,   0.0003,  0.2022,   0.03416\n",
      "      230,   0.0003,  0.2022,   0.03397\n",
      "      240,   0.0002,  0.2022,   0.03516\n",
      "      250,   0.0001,  0.2023,   0.03512\n",
      "      260,   0.0001,  0.2023,   0.03472\n",
      "      270,   0.0001,  0.2023,   0.03407\n",
      "      280,   0.0001,  0.2023,   0.03424\n",
      "      290,   0.0000,  0.2023,   0.03458\n",
      "      300,   0.0000,  0.2023,   0.03442\n",
      "      310,   0.0000,  0.2023,   0.03465\n",
      "      320,   0.0000,  0.2023,   0.03435\n",
      "      330,   0.0000,  0.2023,   0.03474\n",
      "      340,   0.0000,  0.2023,   0.03396\n",
      "      350,   0.0000,  0.2023,   0.03427\n",
      "      360,   0.0000,  0.2023,   0.03450\n",
      "      370,   0.0000,  0.2024,   0.03431\n",
      "      380,   0.0000,  0.2024,   0.03454\n",
      "      390,   0.0000,  0.2024,   0.03488\n",
      "      400,   0.0000,  0.2024,   0.03431\n",
      "      410,   0.0000,  0.2024,   0.03456\n"
     ]
    },
    {
     "data": {
      "image/png": "[encoded data removed]",
      "text/plain": [
       "<Figure size 432x288 with 1 Axes>"
      ]
     },
     "metadata": {
      "needs_background": "light"
     },
     "output_type": "display_data"
    }
   ],
   "source": [
    "dual_vars = [np.zeros(x.shape) for i in range(prob.NumDual())]\n",
    "\n",
    "num_its = 10000\n",
    "step_size = 0.2\n",
    "ftol = 1e-9\n",
    "gtol = 1e-3\n",
    "\n",
    "root_node = 4\n",
    "costs = np.nan*np.zeros(num_its)\n",
    "\n",
    "root_nodes = np.arange(prob.NumDual())\n",
    "root_cycler = itertools.cycle(root_nodes)\n",
    "\n",
    "print('Iteration, StepSize,    Cost,   Error')\n",
    "for i in range(num_its):\n",
    "    error = prob.Step(next(root_cycler), dual_vars, step_size)\n",
    "    \n",
    "    costs[i] = prob.ComputeCost(dual_vars)\n",
    "    if(i>0):\n",
    "        step_size = prob.StepSizeUpdate(step_size, costs[i], costs[i-1], error)\n",
    "\n",
    "    if((i%10)==0):\n",
    "        print('{:9d},   {:0.4f},  {:0.4f},   {:0.5f}'.format(i,step_size, costs[i], error))\n",
    "\n",
    "    # Check for convergence in cost\n",
    "    if(np.abs(costs[i]-costs[i-1])<ftol):\n",
    "        break\n",
    "\n",
    "    # Check for convergence via gradient \n",
    "    if(error<gtol):\n",
    "        break \n",
    "    \n",
    "plt.plot(costs)\n",
    "plt.show()"
   ]
  },
  {
   "cell_type": "markdown",
   "metadata": {},
   "source": [
    "### Compute the Barycenter"
   ]
  },
  {
   "cell_type": "code",
   "execution_count": 8,
   "metadata": {},
   "outputs": [],
   "source": [
    "weights = np.ones(num_digits)/num_digits\n",
    "bary = prob.Barycenter(dual_vars, weights)"
   ]
  },
  {
   "cell_type": "markdown",
   "metadata": {},
   "source": [
    "### Plot the images used and the barycenter"
   ]
  },
  {
   "cell_type": "code",
   "execution_count": 9,
   "metadata": {},
   "outputs": [
    {
     "data": {
      "image/png": "[encoded data removed]",
      "text/plain": [
       "<Figure size 3168x288 with 11 Axes>"
      ]
     },
     "metadata": {
      "needs_background": "light"
     },
     "output_type": "display_data"
    }
   ],
   "source": [
    "vmax = np.max([np.max(m) for m in measures])\n",
    "fig, axs = plt.subplots(1, num_digits+1, figsize=((num_digits+1)*4,4))\n",
    "for i in range(num_digits):\n",
    "    axs[i].imshow(measures[i], origin='lower', extent=(0,1,0,1), vmin=0, vmax=vmax, cmap='Greys')\n",
    "    axs[i].set_title(\"$\\\\mu_{{ {:0d} }}$\".format(i))\n",
    "    \n",
    "axs[-1].imshow(bary, origin='lower', extent=(0,1,0,1), vmin=0, vmax=vmax, cmap='Greys')\n",
    "axs[-1].set_title('Barycenter')"
   ]
  },
  {
   "cell_type": "code",
   "execution_count": null,
   "metadata": {},
   "outputs": [],
   "source": []
  },
  {
   "cell_type": "code",
   "execution_count": null,
   "metadata": {},
   "outputs": [],
   "source": []
  }
 ],
 "metadata": {
  "interpreter": {
   "hash": "545e036c4b32438aced1f6b3c8d38ca151d9c36189e05839cb0aa568fda70ddd"
  },
  "kernelspec": {
   "display_name": "Python 3 (ipykernel)",
   "language": "python",
   "name": "python3"
  },
  "language_info": {
   "codemirror_mode": {
    "name": "ipython",
    "version": 3
   },
   "file_extension": ".py",
   "mimetype": "text/x-python",
   "name": "python",
   "nbconvert_exporter": "python",
   "pygments_lexer": "ipython3",
   "version": "3.10.4"
  }
 },
 "nbformat": 4,
 "nbformat_minor": 4
}
