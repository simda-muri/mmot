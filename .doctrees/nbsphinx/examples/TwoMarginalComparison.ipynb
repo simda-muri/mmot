{
 "cells": [
  {
   "cell_type": "markdown",
   "metadata": {},
   "source": [
    "# Comparison with two-marginal solver"
   ]
  },
  {
   "cell_type": "code",
   "execution_count": 40,
   "metadata": {},
   "outputs": [],
   "source": [
    "from mmot import MMOTSolver\n",
    "\n",
    "import numpy as np \n",
    "import matplotlib.pyplot as plt \n",
    "\n",
    "from scipy.ndimage import gaussian_filter"
   ]
  },
  {
   "cell_type": "code",
   "execution_count": 41,
   "metadata": {},
   "outputs": [],
   "source": [
    "\n",
    "def plot_measures(measures, filename=None):\n",
    "\n",
    "    fig, ax = plt.subplots(1, len(measures), figsize=(12,6),sharey=True)\n",
    "    for i in range(len(measures)):\n",
    "        ax[i].imshow(measures[i], origin='lower', extent=(0,1,0,1), cmap='Greys')\n",
    "        ax[i].set_title(\"$\\\\mu_{{ {:0d} }}$\".format(i),fontsize=18)\n",
    "        ax[i].set_xlabel('$x_1$',fontsize=18)\n",
    "        ax[i].set_xticks([0,1])\n",
    "        ax[i].set_yticks([0,1])\n",
    "\n",
    "        ax[i].tick_params(axis='x',labelsize=14)\n",
    "        ax[i].tick_params(axis='y',labelsize=14)\n",
    "\n",
    "    ax[0].set_ylabel('$x_2$',fontsize=18)\n",
    "    plt.subplots_adjust(wspace=0.08)\n",
    "\n",
    "    if(filename is not None):\n",
    "        plt.savefig(filename,bbox_inches='tight')\n",
    "    plt.show()"
   ]
  },
  {
   "cell_type": "markdown",
   "metadata": {},
   "source": [
    "## Simple circles"
   ]
  },
  {
   "cell_type": "code",
   "execution_count": 42,
   "metadata": {},
   "outputs": [],
   "source": [
    "# Grid of size n1 x n2\n",
    "n1 = 512   # x axis\n",
    "n2 = 512   # y axis\n",
    "\n",
    "x, y = np.meshgrid(np.linspace(0.5/n1,1-0.5/n1,n1), np.linspace(0.5/n2,1-0.5/n1,n2))\n",
    "\n",
    "r = 0.125\n",
    "\n",
    "positions = np.array([[0.2,0.8],\n",
    "                      [0.4,0.6],\n",
    "                      [0.6,0.4],\n",
    "                      [0.8,0.2]])\n",
    "\n",
    "# measures = [None]*len(positions)\n",
    "measures = [None]*(len(positions))\n",
    "\n",
    "for i in range(len(positions)):\n",
    "    xc,yc = positions[i]\n",
    "    measures[i] = np.zeros((n2, n1))\n",
    "    measures[i][(x-xc)**2 + (y-yc)**2 < r**2] = 1\n",
    "\n",
    "    # Normalize\n",
    "    measures[i] *= n1*n2 / np.sum(measures[i])\n",
    "\n",
    "    measures[i] = np.flipud(measures[i])\n"
   ]
  },
  {
   "cell_type": "code",
   "execution_count": 43,
   "metadata": {},
   "outputs": [
    {
     "data": {
      "image/png": "[encoded data removed]",
      "text/plain": [
       "<Figure size 864x432 with 4 Axes>"
      ]
     },
     "metadata": {
      "needs_background": "light"
     },
     "output_type": "display_data"
    }
   ],
   "source": [
    "plot_measures(measures)"
   ]
  },
  {
   "cell_type": "code",
   "execution_count": 44,
   "metadata": {},
   "outputs": [
    {
     "name": "stdout",
     "output_type": "stream",
     "text": [
      "Iteration, StepSize,        Cost,        Error,  Line Its\n",
      "        0,   1.0000,  9.3417e-02,   1.6486e+00,         0\n",
      "       10,   0.0111,  2.3958e-01,   1.2637e-02,         0\n",
      "       20,   0.0267,  2.4002e-01,   5.5909e-04,         0\n",
      "       30,   0.1284,  2.4005e-01,   5.8244e-05,         0\n",
      "       40,   0.0257,  2.4006e-01,   5.9143e-05,         2\n",
      "       50,   0.0549,  2.4006e-01,   5.6647e-06,         0\n",
      "       60,   0.0196,  2.4006e-01,   1.2893e-06,         0\n",
      "       70,   0.0139,  2.4006e-01,   3.4035e-06,         0\n",
      "       80,   0.0099,  2.4006e-01,   1.1036e-06,         0\n",
      "       90,   0.0071,  2.4006e-01,   3.0247e-06,         0\n",
      "      100,   0.0050,  2.4006e-01,   1.0059e-06,         0\n",
      "      110,   0.0036,  2.4006e-01,   2.7766e-06,         0\n",
      "      120,   0.0025,  2.4006e-01,   9.7856e-07,         0\n",
      "      130,   0.0054,  2.4006e-01,   2.6620e-06,         0\n",
      "      140,   0.0039,  2.4006e-01,   9.7680e-07,         0\n",
      "      150,   0.0028,  2.4006e-01,   2.5519e-06,         0\n",
      "      160,   0.0029,  2.4006e-01,   9.4723e-07,         0\n",
      "      170,   0.0021,  2.4006e-01,   2.4685e-06,         0\n",
      "      180,   0.0007,  2.4006e-01,   9.2537e-07,         0\n",
      "      190,   0.0008,  2.4006e-01,   2.4313e-06,         0\n",
      "      200,   0.0002,  2.4006e-01,   9.1936e-07,         0\n",
      "      201,   0.0003,  2.4006e-01,   2.7202e-06,         0\n",
      "Terminating due to small change in objective.\n"
     ]
    }
   ],
   "source": [
    "unroll_node = 0\n",
    "\n",
    "edge_list = [[0,1],\n",
    "             [0,2],\n",
    "             [2,3]]\n",
    "             \n",
    "prob = MMOTSolver(measures, edge_list, x, y, unroll_node)\n",
    "\n",
    "\n",
    "res = prob.Solve(max_its=500, step_size=1.0, ftol_abs=1e-12, gtol_abs=1e-8)"
   ]
  },
  {
   "cell_type": "code",
   "execution_count": 45,
   "metadata": {},
   "outputs": [
    {
     "name": "stdout",
     "output_type": "stream",
     "text": [
      "Iteration, StepSize,        Cost,        Error,  Line Its\n",
      "        0,   0.2500,  3.2476e-02,   3.4092e-01,         2\n",
      "       10,   0.0111,  4.0024e-02,   4.0951e-06,         2\n",
      "       20,   0.0000,  4.0024e-02,   4.2492e-06,         3\n",
      "       22,   0.0000,  4.0024e-02,   4.2493e-06,         3\n",
      "Terminating due to small change in objective.\n",
      "Iteration, StepSize,        Cost,        Error,  Line Its\n",
      "        0,   0.2500,  3.2286e-02,   3.0504e-01,         2\n",
      "       10,   0.0667,  3.9982e-02,   1.3715e-05,         0\n",
      "       20,   0.0000,  3.9983e-02,   9.0152e-06,         4\n",
      "       20,   0.0000,  3.9983e-02,   9.0152e-06,         4\n",
      "Terminating due to small change in objective.\n",
      "Iteration, StepSize,        Cost,        Error,  Line Its\n",
      "        0,   0.2500,  3.2826e-02,   3.2791e-01,         2\n",
      "       10,   0.0167,  4.0024e-02,   6.7798e-06,         0\n",
      "       20,   0.0007,  4.0024e-02,   5.1981e-06,         5\n",
      "       24,   0.0000,  4.0024e-02,   5.2415e-06,         4\n",
      "Terminating due to small change in objective.\n",
      "MMOT Cost:  0.12003110570772607  vs  0.24005996353531112\n"
     ]
    }
   ],
   "source": [
    "bfm_res = [None]*(len(measures)-1)\n",
    "for i in range(len(measures)-1):\n",
    "    prob = MMOTSolver(measures[i:i+2], [[0,1]], x, y, 0)\n",
    "    bfm_res[i] = prob.Solve(max_its=500, step_size=1.0, ftol_abs=1e-12, gtol_abs=1e-8)\n",
    "\n",
    "\n",
    "print('MMOT Cost: ', np.sum([r.costs[-1] for r in bfm_res]), ' vs ', res.costs[-1])"
   ]
  },
  {
   "cell_type": "markdown",
   "metadata": {},
   "source": [
    "## More Complicated Marginals"
   ]
  },
  {
   "cell_type": "code",
   "execution_count": 46,
   "metadata": {},
   "outputs": [],
   "source": [
    "def sharpen(img):\n",
    "    blurred = gaussian_filter(img, sigma=7)\n",
    "    \n",
    "    blurred[blurred<0.5*np.max(blurred)] = 0.0\n",
    "    blurred[blurred>0] = 1.0\n",
    "\n",
    "    blurred /= np.sum(blurred)\n",
    "    return blurred\n",
    "\n",
    "def pad(img,pad_size=4):\n",
    "    temp = np.ones((img.shape[0]+2*pad_size,img.shape[1]+2*pad_size))\n",
    "    temp[pad_size:-pad_size,pad_size:-pad_size] = img\n",
    "    return temp\n",
    "\n",
    "def rescale(img):\n",
    "    output = np.zeros((2*img.shape[0],2*img.shape[1]))\n",
    "    output[0::2,0::2] = img \n",
    "    output[1::2,0::2] = img \n",
    "    output[1::2,1::2] = img \n",
    "    output[0::2,1::2] = img \n",
    "\n",
    "    return output\n"
   ]
  },
  {
   "cell_type": "code",
   "execution_count": 47,
   "metadata": {},
   "outputs": [
    {
     "name": "stdout",
     "output_type": "stream",
     "text": [
      "Marginal size =  (1088, 1088)\n"
     ]
    }
   ],
   "source": [
    "measures = [None]*4\n",
    "measures[0] = sharpen(rescale(rescale(rescale(1 - pad(plt.imread('images/redcross.png')[:, :, 2])))))\n",
    "measures[1] = sharpen(rescale(rescale(rescale(1 - pad(plt.imread('images/tooth.png')[:, :, 2])))))\n",
    "measures[2] = sharpen(rescale(rescale(rescale(1 - pad(plt.imread('images/heart.png')[:, :, 2])))))\n",
    "measures[3] = sharpen(rescale(rescale(rescale(1 - pad(plt.imread('images/duck.png')[:, :, 2])))))\n",
    "\n",
    "for i in range(len(measures)):\n",
    "    measures[i] *= np.prod(measures[i].shape)/np.sum(measures[i])\n",
    "   \n",
    "print('Marginal size = ', measures[0].shape)\n",
    "\n",
    "# Grid of size n1 x n2\n",
    "n1,n2 = measures[0].shape\n",
    "\n",
    "x, y = np.meshgrid(np.linspace(0.5/n1,1-0.5/n1,n1), np.linspace(0.5/n2,1-0.5/n1,n2))"
   ]
  },
  {
   "cell_type": "code",
   "execution_count": 48,
   "metadata": {},
   "outputs": [
    {
     "data": {
      "image/png": "[encoded data removed]",
      "text/plain": [
       "<Figure size 864x432 with 4 Axes>"
      ]
     },
     "metadata": {
      "needs_background": "light"
     },
     "output_type": "display_data"
    }
   ],
   "source": [
    "plot_measures(measures)"
   ]
  },
  {
   "cell_type": "code",
   "execution_count": 49,
   "metadata": {},
   "outputs": [
    {
     "name": "stdout",
     "output_type": "stream",
     "text": [
      "Iteration, StepSize,        Cost,        Error,  Line Its\n",
      "        0,   1.0000,  8.5021e-03,   9.3736e-02,         0\n",
      "       10,   0.1250,  3.5732e-02,   2.0738e-03,         3\n",
      "       20,   0.3003,  3.6298e-02,   1.0495e-04,         0\n",
      "       30,   0.7119,  3.6372e-02,   2.8188e-05,         0\n",
      "       40,   0.0625,  3.6388e-02,   3.4803e-05,         4\n",
      "       50,   0.1406,  3.6395e-02,   5.4176e-06,         0\n",
      "       60,   0.3379,  3.6398e-02,   2.3204e-06,         0\n",
      "       70,   0.7119,  3.6401e-02,   1.5874e-06,         0\n",
      "       80,   0.0713,  3.6401e-02,   9.7082e-07,         0\n",
      "       80,   0.0713,  3.6401e-02,   9.7082e-07,         0\n",
      "Terminating due to small gradient norm.\n"
     ]
    }
   ],
   "source": [
    "prob = MMOTSolver(measures, edge_list, x, y, unroll_node)\n",
    "\n",
    "\n",
    "res = prob.Solve(max_its=500, step_size=1.0, ftol_abs=1e-12, gtol_abs=1e-6)"
   ]
  },
  {
   "cell_type": "markdown",
   "metadata": {},
   "source": [
    "### Two-Marginal Solve"
   ]
  },
  {
   "cell_type": "code",
   "execution_count": 50,
   "metadata": {},
   "outputs": [
    {
     "name": "stdout",
     "output_type": "stream",
     "text": [
      "Iteration, StepSize,        Cost,        Error,  Line Its\n",
      "        0,   1.0000,  3.9277e-03,   1.7696e-02,         0\n",
      "       10,   0.5625,  6.9856e-03,   5.5898e-05,         0\n",
      "       20,   1.0000,  6.9891e-03,   3.3346e-07,         0\n",
      "       30,   1.0000,  6.9895e-03,   1.7784e-07,         0\n",
      "       40,   0.3560,  6.9897e-03,   1.4233e-07,         1\n",
      "       50,   0.0422,  6.9897e-03,   1.4873e-07,         1\n",
      "       60,   0.0100,  6.9897e-03,   1.4910e-07,         1\n",
      "       70,   0.0024,  6.9897e-03,   1.4902e-07,         1\n",
      "       80,   0.0006,  6.9897e-03,   1.4900e-07,         1\n",
      "       90,   0.0001,  6.9897e-03,   1.4900e-07,         1\n",
      "       96,   0.0001,  6.9897e-03,   1.4899e-07,         1\n",
      "Terminating due to small change in objective.\n",
      "Iteration, StepSize,        Cost,        Error,  Line Its\n",
      "        0,   1.0000,  1.6247e-03,   3.9726e-03,         0\n",
      "       10,   0.0527,  2.1492e-03,   5.1514e-06,         4\n",
      "       20,   0.0625,  2.1494e-03,   6.7772e-07,         4\n",
      "       30,   0.1406,  2.1494e-03,   6.3447e-08,         0\n",
      "       40,   0.1126,  2.1495e-03,   3.7958e-08,         0\n",
      "       50,   0.0267,  2.1495e-03,   2.8944e-08,         0\n",
      "       60,   0.0063,  2.1495e-03,   2.8165e-08,         0\n",
      "       70,   0.0015,  2.1495e-03,   2.7998e-08,         0\n",
      "       76,   0.0006,  2.1495e-03,   2.7966e-08,         0\n",
      "Terminating due to small change in objective.\n",
      "Iteration, StepSize,        Cost,        Error,  Line Its\n",
      "        0,   1.0000,  1.7943e-02,   5.9142e-02,         0\n",
      "       10,   0.0938,  2.2656e-02,   8.5351e-04,         0\n",
      "       20,   0.0938,  2.2769e-02,   3.6912e-06,         0\n",
      "       30,   0.1001,  2.2769e-02,   1.6354e-07,         0\n",
      "       40,   0.0007,  2.2769e-02,   1.5878e-07,         0\n",
      "       45,   0.0000,  2.2769e-02,   1.6728e-07,         2\n",
      "Terminating due to small change in objective.\n"
     ]
    }
   ],
   "source": [
    "\n",
    "bfm_res = [None]*(len(measures)-1)\n",
    "for i in range(len(measures)-1):\n",
    "    prob = MMOTSolver(measures[i:i+2], [[0,1]], x, y, 0)\n",
    "    bfm_res[i] = prob.Solve(max_its=500, step_size=1.0, ftol_abs=1e-12, gtol_abs=1e-8)\n",
    "\n"
   ]
  },
  {
   "cell_type": "code",
   "execution_count": 51,
   "metadata": {},
   "outputs": [
    {
     "name": "stdout",
     "output_type": "stream",
     "text": [
      "MMOT Cost:  0.03190864936409036  vs  0.036401322690964286\n"
     ]
    }
   ],
   "source": [
    "\n",
    "print('MMOT Cost: ', np.sum([r.costs[-1] for r in bfm_res]), ' vs ', res.costs[-1])"
   ]
  }
 ],
 "metadata": {
  "kernelspec": {
   "display_name": "Python 3.10.4 ('mmot')",
   "language": "python",
   "name": "python3"
  },
  "language_info": {
   "codemirror_mode": {
    "name": "ipython",
    "version": 3
   },
   "file_extension": ".py",
   "mimetype": "text/x-python",
   "name": "python",
   "nbconvert_exporter": "python",
   "pygments_lexer": "ipython3",
   "version": "3.10.4"
  },
  "vscode": {
   "interpreter": {
    "hash": "221b6e583ecb633bc004809c250356805731efcc26756f0234767dddbe234e79"
   }
  }
 },
 "nbformat": 4,
 "nbformat_minor": 4
}
